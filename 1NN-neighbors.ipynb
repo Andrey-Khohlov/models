{
 "cells": [
  {
   "cell_type": "code",
   "execution_count": null,
   "id": "a2cd819b",
   "metadata": {},
   "outputs": [],
   "source": [
    "'''Implementation of the K-nearest neighbors problem for the case K=1 in order to study'''\n",
    "\n",
    "def OneNNClasifier_predictor(X_test, X_train, y_train): \n",
    "    predictions = [] \n",
    "    for X_test_item in X_test: # for each observation from the test sample\n",
    "        s_min, i_min = np.sum((X_test_item - X_train[0])**2), 0\n",
    "        for i, X_train_item in enumerate(X_train): # for each observation from the train sample\n",
    "            s = np.sum((X_test_item - X_train_item)**2) # the square of the distance between the points\n",
    "            if s < s_min:\n",
    "                s_min = s\n",
    "                i_min = i\n",
    "        # write down the element with the smallest distance to the point from the test sample\n",
    "        predictions.append(y_train[i_min])  \n",
    "    return predictions"
   ]
  }
 ],
 "metadata": {
  "kernelspec": {
   "display_name": "Python 3",
   "language": "python",
   "name": "python3"
  },
  "language_info": {
   "codemirror_mode": {
    "name": "ipython",
    "version": 3
   },
   "file_extension": ".py",
   "mimetype": "text/x-python",
   "name": "python",
   "nbconvert_exporter": "python",
   "pygments_lexer": "ipython3",
   "version": "3.6.9"
  }
 },
 "nbformat": 4,
 "nbformat_minor": 5
}
